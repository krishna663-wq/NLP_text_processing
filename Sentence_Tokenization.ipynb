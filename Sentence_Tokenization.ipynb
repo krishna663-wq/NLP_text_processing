{
  "nbformat": 4,
  "nbformat_minor": 0,
  "metadata": {
    "colab": {
      "provenance": [],
      "authorship_tag": "ABX9TyMeOwqSp99G2vG/zK/1mRzd",
      "include_colab_link": true
    },
    "kernelspec": {
      "name": "python3",
      "display_name": "Python 3"
    },
    "language_info": {
      "name": "python"
    }
  },
  "cells": [
    {
      "cell_type": "markdown",
      "metadata": {
        "id": "view-in-github",
        "colab_type": "text"
      },
      "source": [
        "<a href=\"https://colab.research.google.com/github/krishna663-wq/NLP_text_processing/blob/main/Sentence_Tokenization.ipynb\" target=\"_parent\"><img src=\"https://colab.research.google.com/assets/colab-badge.svg\" alt=\"Open In Colab\"/></a>"
      ]
    },
    {
      "cell_type": "markdown",
      "source": [
        "Write a python program for sentence tokenization.\n"
      ],
      "metadata": {
        "id": "-AgAVvg3OPO4"
      }
    },
    {
      "cell_type": "code",
      "source": [
        "import nltk\n",
        "nltk.download('punkt')\n",
        "from nltk.tokenize import sent_tokenize\n",
        "def tokenize_sentences(text):\n",
        "  sentences = sent_tokenize(text)\n",
        "  return sentences\n",
        "text=\"Hello everyone. Welcome to Colab. You are studying NLP article\"\n",
        "sentences = tokenize_sentences(text)\n",
        "for i, sentence in enumerate(sentences):\n",
        "  print(f\"sentences{i+1}:{sentences}\")"
      ],
      "metadata": {
        "colab": {
          "base_uri": "https://localhost:8080/"
        },
        "id": "pzBHwIU_Obx7",
        "outputId": "82bf8f98-c4b1-4091-c51a-b89eba932d12"
      },
      "execution_count": null,
      "outputs": [
        {
          "output_type": "stream",
          "name": "stdout",
          "text": [
            "sentences1:['Hello everyone.', 'Welcome to Colab.', 'You are studying NLP article']\n",
            "sentences2:['Hello everyone.', 'Welcome to Colab.', 'You are studying NLP article']\n",
            "sentences3:['Hello everyone.', 'Welcome to Colab.', 'You are studying NLP article']\n"
          ]
        },
        {
          "output_type": "stream",
          "name": "stderr",
          "text": [
            "[nltk_data] Downloading package punkt to /root/nltk_data...\n",
            "[nltk_data]   Package punkt is already up-to-date!\n"
          ]
        }
      ]
    },
    {
      "cell_type": "code",
      "source": [
        "pip install nltk"
      ],
      "metadata": {
        "colab": {
          "base_uri": "https://localhost:8080/"
        },
        "id": "PjrziSKaPEMz",
        "outputId": "c607bbc5-8900-436c-d612-eb8dd7a0de8b"
      },
      "execution_count": null,
      "outputs": [
        {
          "output_type": "stream",
          "name": "stdout",
          "text": [
            "Requirement already satisfied: nltk in /usr/local/lib/python3.10/dist-packages (3.8.1)\n",
            "Requirement already satisfied: click in /usr/local/lib/python3.10/dist-packages (from nltk) (8.1.7)\n",
            "Requirement already satisfied: joblib in /usr/local/lib/python3.10/dist-packages (from nltk) (1.4.2)\n",
            "Requirement already satisfied: regex>=2021.8.3 in /usr/local/lib/python3.10/dist-packages (from nltk) (2024.5.15)\n",
            "Requirement already satisfied: tqdm in /usr/local/lib/python3.10/dist-packages (from nltk) (4.66.5)\n"
          ]
        }
      ]
    },
    {
      "cell_type": "code",
      "source": [
        "import nltk\n",
        "nltk.download('punkt')"
      ],
      "metadata": {
        "colab": {
          "base_uri": "https://localhost:8080/"
        },
        "id": "D5ad07TQQguz",
        "outputId": "3f7c3315-fdf0-480e-d412-dff3e715ff1a"
      },
      "execution_count": null,
      "outputs": [
        {
          "output_type": "stream",
          "name": "stderr",
          "text": [
            "[nltk_data] Downloading package punkt to /root/nltk_data...\n",
            "[nltk_data]   Package punkt is already up-to-date!\n"
          ]
        },
        {
          "output_type": "execute_result",
          "data": {
            "text/plain": [
              "True"
            ]
          },
          "metadata": {},
          "execution_count": 13
        }
      ]
    },
    {
      "cell_type": "markdown",
      "source": [
        "Word Tokenization\n"
      ],
      "metadata": {
        "id": "wvbZeyEnZslJ"
      }
    },
    {
      "cell_type": "code",
      "source": [
        "from nltk.tokenize import sent_tokenize\n",
        "def tokenize_sentences(text):\n",
        "  sentences = sent_tokenize(text)\n",
        "  return sentences\n",
        "text=\"Hello everyone. Welcome to Colab. You are studying NLP article\"\n",
        "sentences = tokenize_sentences(text)\n",
        "for i, sentence in enumerate(sentences):\n",
        "  print(f\"sentence{i+1}:{sentence}\")"
      ],
      "metadata": {
        "colab": {
          "base_uri": "https://localhost:8080/"
        },
        "id": "8035SMH7QPTg",
        "outputId": "d6e6255e-f319-4804-f64c-3145e08ae60d"
      },
      "execution_count": null,
      "outputs": [
        {
          "output_type": "stream",
          "name": "stdout",
          "text": [
            "sentence1:Hello everyone.\n",
            "sentence2:Welcome to Colab.\n",
            "sentence3:You are studying NLP article\n"
          ]
        }
      ]
    },
    {
      "cell_type": "code",
      "source": [
        "from nltk.tokenize import word_tokenize\n",
        "def tokenize_words(text):\n",
        "  words = word_tokenize(text)\n",
        "  return words\n",
        "text=\"Hello everyone. Welcome to Colab. You are studying NLP article\"\n",
        "words = tokenize_words(text)\n",
        "# for i, word in enumerate(words):\n",
        "  # print(f\"word{i+1}:{word}\")\n"
      ],
      "metadata": {
        "id": "G-cMQwrLQoyP"
      },
      "execution_count": null,
      "outputs": []
    },
    {
      "cell_type": "code",
      "source": [
        "print(words)"
      ],
      "metadata": {
        "colab": {
          "base_uri": "https://localhost:8080/"
        },
        "id": "IjMFd_lHWZ0z",
        "outputId": "be97d87e-9552-4994-92c0-2b1872ce53ec"
      },
      "execution_count": null,
      "outputs": [
        {
          "output_type": "stream",
          "name": "stdout",
          "text": [
            "['Hello', 'everyone', '.', 'Welcome', 'to', 'Colab', '.', 'You', 'are', 'studying', 'NLP', 'article']\n"
          ]
        }
      ]
    },
    {
      "cell_type": "markdown",
      "source": [
        "Write a python program to eliminate stopwords using nltk.\n",
        "\n",
        "Stopwords are common words that are often removed because they dont add much value to the meaning o a sentence .\n",
        "\n",
        "For Example:\n",
        "Articles: a,am,the\n",
        "Conjunction: and,but,or\n",
        "Preeposition: in,an,at....\n",
        "Pronoun: he,she,it\n",
        "Common verb: is,am,are,was,were,be,being...."
      ],
      "metadata": {
        "id": "LYyMMO_RaAaz"
      }
    },
    {
      "cell_type": "code",
      "source": [
        "\n",
        "import nltk\n",
        "from nltk.corpus import stopwords\n",
        "from nltk.tokenize import word_tokenize\n",
        "\n",
        "nltk.download('punkt')\n",
        "nltk.download('stopwords')\n",
        "\n",
        "\n",
        "def remove_stopwords(text):\n",
        "  words = word_tokenize(text)\n",
        "  english_stopwords = set(stopwords.words('english'))\n",
        "  filtered_words = [word for word in words if word.lower() not in english_stopwords]\n",
        "  filtered_text = ''.join(filtered_words)\n",
        "  return filtered_text\n",
        "\n",
        "text = \"Hello! everyone. Welcome to Colab. You are studying NLP article.\"\n",
        "filtered_text = remove_stopwords(text)\n",
        "print(filtered_text)\n",
        "\n"
      ],
      "metadata": {
        "colab": {
          "base_uri": "https://localhost:8080/"
        },
        "id": "-SPGv49RWd4u",
        "outputId": "e9d7fc87-4f77-4a9e-9ff3-23e684b95fec"
      },
      "execution_count": null,
      "outputs": [
        {
          "output_type": "stream",
          "name": "stdout",
          "text": [
            "Hello!everyone.WelcomeColab.studyingNLParticle.\n"
          ]
        },
        {
          "output_type": "stream",
          "name": "stderr",
          "text": [
            "[nltk_data] Downloading package punkt to /root/nltk_data...\n",
            "[nltk_data]   Package punkt is already up-to-date!\n",
            "[nltk_data] Downloading package stopwords to /root/nltk_data...\n",
            "[nltk_data]   Package stopwords is already up-to-date!\n"
          ]
        }
      ]
    },
    {
      "cell_type": "code",
      "source": [],
      "metadata": {
        "id": "NxCkIc1edJR_"
      },
      "execution_count": null,
      "outputs": []
    }
  ]
}